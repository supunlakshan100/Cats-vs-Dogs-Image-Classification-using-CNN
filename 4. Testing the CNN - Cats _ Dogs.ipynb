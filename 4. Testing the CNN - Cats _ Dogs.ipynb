{
 "cells": [
  {
   "cell_type": "code",
   "execution_count": 17,
   "metadata": {},
   "outputs": [],
   "source": [
    "from keras.models import Sequential\n",
    "from keras.layers import Dense,Activation,Flatten, Dropout\n",
    "from keras.layers import Conv2D,MaxPooling2D\n",
    "\n",
    "model=Sequential()\n",
    "\n",
    "model.add(Conv2D(256,(3,3),input_shape=[50,50,1]))\n",
    "model.add(Activation('relu'))\n",
    "model.add(MaxPooling2D(pool_size=(2,2)))\n",
    "#The first CNN layer followed by Relu and MaxPooling layers\n",
    "\n",
    "model.add(Conv2D(128,(3,3)))\n",
    "model.add(Activation('relu'))\n",
    "model.add(MaxPooling2D(pool_size=(2,2)))\n",
    "#The second convolution layer followed by Relu and MaxPooling layers\n",
    "\n",
    "model.add(Flatten())\n",
    "#Flatten layer to stack the output convolutions from second convolution layer\n",
    "model.add(Dense(64,activation='relu'))\n",
    "model.add(Dropout(0.5))\n",
    "\n",
    "model.add(Dense(32,activation='relu'))\n",
    "model.add(Dropout(0.5))\n",
    "#Dense layer of 64 neurons\n",
    "model.add(Dense(2,activation='softmax'))\n",
    "#The Final layer with two outputs for two categories\n",
    "\n",
    "model.compile(loss='categorical_crossentropy',optimizer='adam',metrics=['accuracy'])\n"
   ]
  },
  {
   "cell_type": "code",
   "execution_count": 20,
   "metadata": {},
   "outputs": [],
   "source": [
    "model.load_weights('catsvsdogs.h5')"
   ]
  },
  {
   "cell_type": "code",
   "execution_count": 31,
   "metadata": {},
   "outputs": [
    {
     "name": "stdout",
     "output_type": "stream",
     "text": [
      "[[0.60146487 0.39853504]] 0 Cat 60\n",
      "[[0.6408268 0.3591732]] 0 Cat 64\n",
      "[[0.09983511 0.9001649 ]] 1 Dog 90\n",
      "[[0.05003335 0.9499666 ]] 1 Dog 94\n",
      "[[0.19162592 0.8083741 ]] 1 Dog 80\n",
      "[[0.89868826 0.10131173]] 0 Cat 89\n",
      "[[0.69221294 0.30778706]] 0 Cat 69\n",
      "[[0.00546221 0.9945378 ]] 1 Dog 99\n",
      "[[0.7641496 0.2358504]] 0 Cat 76\n",
      "[[0.89742744 0.10257255]] 0 Cat 89\n",
      "[[0.7537745  0.24622548]] 0 Cat 75\n",
      "[[0.9915554  0.00844466]] 0 Cat 99\n",
      "[[0.6195277 0.3804723]] 0 Cat 61\n",
      "[[0.629595   0.37040496]] 0 Cat 62\n",
      "[[0.526004   0.47399598]] 0 Cat 52\n",
      "[[0.21118057 0.78881943]] 1 Dog 78\n",
      "[[0.06567486 0.9343251 ]] 1 Dog 93\n",
      "[[0.8173553  0.18264468]] 0 Cat 81\n",
      "[[0.65769064 0.34230936]] 0 Cat 65\n"
     ]
    }
   ],
   "source": [
    "import os\n",
    "import cv2\n",
    "import numpy as np\n",
    "\n",
    "test_path='test1'\n",
    "\n",
    "img_names=os.listdir(test_path)\n",
    "category_dict={0:'Cat',1:'Dog'}\n",
    "\n",
    "for img_name in img_names:\n",
    "    img=cv2.imread(os.path.join(test_path,img_name))\n",
    "    h,w=img.shape[0:2] #height and width eka\n",
    "\n",
    "    #preprocessing (As done for the training images)\n",
    "    test_img=cv2.resize(img,(50,50))\n",
    "    test_img=cv2.cvtColor(test_img,cv2.COLOR_BGR2GRAY)\n",
    "    test_img=test_img/255\n",
    "    test_img=test_img.reshape(1,50,50,1) #neural netowrk eka 4d input ekak illna nisa 4d krgnnwa image eka. \n",
    "    #mul tyna 1 thmi 1 image ekak nisa. multiple image tbba nam aulk na 1k image ekk nisa manually denwa.\n",
    "    \n",
    "    results=model.predict(test_img)\n",
    "    label=np.argmax(results,axis=1)[0] #probability 2d array eken wedi eka gnnwa.\n",
    "    acc=int(np.max(results,axis=1)[0]*100)\n",
    "    \n",
    "    print(results,label,category_dict[label],acc) \n",
    "    \n",
    "    img[0:50,0:w]=[0,255,0]\n",
    "    cv2.putText(img,category_dict[label],(20,40),cv2.FONT_HERSHEY_SIMPLEX,1.5,(255,255,255),2)\n",
    "    cv2.putText(img,str(acc)+'%',(120,40),cv2.FONT_HERSHEY_SIMPLEX,1.5,(255,255,255),2)\n",
    "    \n",
    "    cv2.imshow('LIVE',img)\n",
    "    k=cv2.waitKey(1000)\n",
    "    if(k==27):\n",
    "        break\n",
    "cv2.destroyAllWindows()"
   ]
  },
  {
   "cell_type": "code",
   "execution_count": 2,
   "metadata": {},
   "outputs": [
    {
     "ename": "SyntaxError",
     "evalue": "invalid syntax (<ipython-input-2-24ea70bb1241>, line 30)",
     "output_type": "error",
     "traceback": [
      "\u001b[1;36m  File \u001b[1;32m\"<ipython-input-2-24ea70bb1241>\"\u001b[1;36m, line \u001b[1;32m30\u001b[0m\n\u001b[1;33m    cv2.putText(img,category,(20,40),cv|2.FONT_HERSHEY_SIMPLEX,1.5,(255,255,255),2)\u001b[0m\n\u001b[1;37m                                                             ^\u001b[0m\n\u001b[1;31mSyntaxError\u001b[0m\u001b[1;31m:\u001b[0m invalid syntax\n"
     ]
    }
   ],
   "source": [
    "video=cv2.VideoCapture('Funny Cat and Dog Videos Compilation   15 Minutes.mp4')\n",
    "\n",
    "category_dict={0:'Cat',1:'Dog'}\n",
    "\n",
    "while(True):\n",
    "    \n",
    "    ret,img=video.read()\n",
    "    \n",
    "    h,w=img.shape[0:2]\n",
    "\n",
    "    #preprocessing (As done for the training images)\n",
    "    test_img=cv2.resize(img,(50,50))\n",
    "    test_img=cv2.cvtColor(test_img,cv2.COLOR_BGR2GRAY)\n",
    "    test_img=test_img/255\n",
    "    test_img=test_img.reshape(1,50,50,1)\n",
    "    \n",
    "    results=model.predict(test_img)\n",
    "    label=np.argmax(results,axis=1)[0]\n",
    "    acc=int(np.max(results,axis=1)[0]*100)\n",
    "    \n",
    "    category=category_dict[label]\n",
    "    \n",
    "    print(results,label,category,acc)\n",
    "    \n",
    "    if(acc<60):\n",
    "        \n",
    "        category='NONE'\n",
    "        \n",
    "    img[0:50,0:w]=[0,255,0]\n",
    "    cv2.putText(img,category,(20,40),cv|2.FONT_HERSHEY_SIMPLEX,1.5,(255,255,255),2)\n",
    "    cv2.putText(img,str(acc)+'%',(120,40),cv2.FONT_HERSHEY_SIMPLEX,1.5,(255,255,255),2)\n",
    "    \n",
    "    cv2.imshow('LIVE',img)\n",
    "    k=cv2.waitKey(100)\n",
    "    if(k==27):\n",
    "        break\n",
    "cv2.destroyAllWindows()"
   ]
  },
  {
   "cell_type": "code",
   "execution_count": null,
   "metadata": {},
   "outputs": [],
   "source": []
  }
 ],
 "metadata": {
  "kernelspec": {
   "display_name": "Python 3",
   "language": "python",
   "name": "python3"
  },
  "language_info": {
   "codemirror_mode": {
    "name": "ipython",
    "version": 3
   },
   "file_extension": ".py",
   "mimetype": "text/x-python",
   "name": "python",
   "nbconvert_exporter": "python",
   "pygments_lexer": "ipython3",
   "version": "3.6.13"
  }
 },
 "nbformat": 4,
 "nbformat_minor": 2
}
